{
 "cells": [
  {
   "cell_type": "code",
   "execution_count": 1,
   "metadata": {
    "_cell_guid": "b1076dfc-b9ad-4769-8c92-a6c4dae69d19",
    "_uuid": "8f2839f25d086af736a60e9eeb907d3b93b6e0e5",
    "tags": []
   },
   "outputs": [],
   "source": [
    "# This Python 3 environment comes with many helpful analytics libraries installed\n",
    "# It is defined by the kaggle/python Docker image: https://github.com/kaggle/docker-python\n",
    "# For example, here's several helpful packages to load\n",
    "\n",
    "import numpy as np # linear algebra\n",
    "import pandas as pd # data processing, CSV file I/O (e.g. pd.read_csv)\n",
    "\n",
    "# Input data files are available in the read-only \"../input/\" directory\n",
    "# For example, running this (by clicking run or pressing Shift+Enter) will list all files under the input directory\n",
    "\n",
    "import os\n",
    "for dirname, _, filenames in os.walk('/kaggle/input'):\n",
    "    for filename in filenames:\n",
    "        print(os.path.join(dirname, filename))\n",
    "\n",
    "# You can write up to 20GB to the current directory (/kaggle/working/) that gets preserved as output when you create a version using \"Save & Run All\" \n",
    "# You can also write temporary files to /kaggle/temp/, but they won't be saved outside of the current session"
   ]
  },
  {
   "cell_type": "markdown",
   "metadata": {},
   "source": [
    "# Install waymo_open_dataset package"
   ]
  },
  {
   "cell_type": "code",
   "execution_count": 2,
   "metadata": {
    "tags": []
   },
   "outputs": [],
   "source": [
    "#!rm -rf waymo-od > /dev/null\n",
    "#!git clone https://github.com/waymo-research/waymo-open-dataset.git waymo-od\n",
    "#!cd waymo-od && git branch -a\n",
    "#!cd waymo-od && git checkout remotes/origin/master\n",
    "# !pip3 install --upgrade pip"
   ]
  },
  {
   "cell_type": "code",
   "execution_count": 3,
   "metadata": {
    "tags": []
   },
   "outputs": [],
   "source": [
    "#!pip3 install waymo-open-dataset-tf-2-1-0==1.2.0"
   ]
  },
  {
   "cell_type": "code",
   "execution_count": 4,
   "metadata": {
    "tags": []
   },
   "outputs": [],
   "source": [
    "import os\n",
    "import tensorflow.compat.v1 as tf\n",
    "import math\n",
    "import numpy as np\n",
    "import itertools\n",
    "\n",
    "tf.enable_eager_execution()\n",
    "\n",
    "from waymo_open_dataset.utils import range_image_utils\n",
    "from waymo_open_dataset.utils import transform_utils\n",
    "from waymo_open_dataset.utils import  frame_utils\n",
    "from waymo_open_dataset import dataset_pb2 as open_dataset"
   ]
  },
  {
   "cell_type": "markdown",
   "metadata": {},
   "source": [
    "# Read One Frame\n",
    "Each file in the dataset is a sequence of frames ordered by frame start timestamps. We have extracted two frames from the dataset to demonstrate the dataset format."
   ]
  },
  {
   "cell_type": "code",
   "execution_count": 5,
   "metadata": {
    "tags": []
   },
   "outputs": [
    {
     "name": "stderr",
     "output_type": "stream",
     "text": [
      "'ls' is not recognized as an internal or external command,\n",
      "operable program or batch file.\n"
     ]
    }
   ],
   "source": [
    "!ls -lrt"
   ]
  },
  {
   "cell_type": "code",
   "execution_count": 6,
   "metadata": {
    "tags": []
   },
   "outputs": [],
   "source": [
    "FILENAME = 'tutorial/frames'\n",
    "dataset = tf.data.TFRecordDataset(FILENAME, compression_type='')\n",
    "for data in dataset:\n",
    "    frame = open_dataset.Frame()\n",
    "    frame.ParseFromString(bytearray(data.numpy()))\n",
    "    break"
   ]
  },
  {
   "cell_type": "code",
   "execution_count": 7,
   "metadata": {
    "tags": []
   },
   "outputs": [
    {
     "ename": "AttributeError",
     "evalue": "'RangeImage' object has no attribute 'segmentation_label_compressed'",
     "output_type": "error",
     "traceback": [
      "\u001b[1;31m---------------------------------------------------------------------------\u001b[0m",
      "\u001b[1;31mAttributeError\u001b[0m                            Traceback (most recent call last)",
      "Cell \u001b[1;32mIn [7], line 1\u001b[0m\n\u001b[1;32m----> 1\u001b[0m (range_images, camera_projections,range_image_top_pose) \u001b[38;5;241m=\u001b[39m \u001b[43mframe_utils\u001b[49m\u001b[38;5;241;43m.\u001b[39;49m\u001b[43mparse_range_image_and_camera_projection\u001b[49m\u001b[43m(\u001b[49m\u001b[43mframe\u001b[49m\u001b[43m)\u001b[49m\n",
      "File \u001b[1;32m~\\Documents\\Repos\\ITS_3D_Camera_only_detection\\waymo_open_dataset\\utils\\frame_utils.py:76\u001b[0m, in \u001b[0;36mparse_range_image_and_camera_projection\u001b[1;34m(frame)\u001b[0m\n\u001b[0;32m     73\u001b[0m cp\u001b[38;5;241m.\u001b[39mParseFromString(\u001b[38;5;28mbytearray\u001b[39m(camera_projection_str_tensor\u001b[38;5;241m.\u001b[39mnumpy()))\n\u001b[0;32m     74\u001b[0m camera_projections[laser\u001b[38;5;241m.\u001b[39mname] \u001b[38;5;241m=\u001b[39m [cp]\n\u001b[1;32m---> 76\u001b[0m \u001b[38;5;28;01mif\u001b[39;00m \u001b[38;5;28mlen\u001b[39m(\u001b[43mlaser\u001b[49m\u001b[38;5;241;43m.\u001b[39;49m\u001b[43mri_return1\u001b[49m\u001b[38;5;241;43m.\u001b[39;49m\u001b[43msegmentation_label_compressed\u001b[49m) \u001b[38;5;241m>\u001b[39m \u001b[38;5;241m0\u001b[39m:  \u001b[38;5;66;03m# pylint: disable=g-explicit-length-test\u001b[39;00m\n\u001b[0;32m     77\u001b[0m   seg_label_str_tensor \u001b[38;5;241m=\u001b[39m tf\u001b[38;5;241m.\u001b[39mio\u001b[38;5;241m.\u001b[39mdecode_compressed(\n\u001b[0;32m     78\u001b[0m       laser\u001b[38;5;241m.\u001b[39mri_return1\u001b[38;5;241m.\u001b[39msegmentation_label_compressed, \u001b[38;5;124m'\u001b[39m\u001b[38;5;124mZLIB\u001b[39m\u001b[38;5;124m'\u001b[39m)\n\u001b[0;32m     79\u001b[0m   seg_label \u001b[38;5;241m=\u001b[39m dataset_pb2\u001b[38;5;241m.\u001b[39mMatrixInt32()\n",
      "\u001b[1;31mAttributeError\u001b[0m: 'RangeImage' object has no attribute 'segmentation_label_compressed'"
     ]
    }
   ],
   "source": [
    "(range_images, camera_projections,range_image_top_pose) = frame_utils.parse_range_image_and_camera_projection(frame)\n"
   ]
  },
  {
   "cell_type": "markdown",
   "metadata": {},
   "source": [
    "# Examine frame context"
   ]
  },
  {
   "cell_type": "code",
   "execution_count": 8,
   "metadata": {
    "tags": []
   },
   "outputs": [
    {
     "name": "stdout",
     "output_type": "stream",
     "text": [
      "name: \"11004685739714500220_2300_000_2320_000\"\n",
      "camera_calibrations {\n",
      "  name: FRONT\n",
      "  intrinsic: 2055.556149361639\n",
      "  intrinsic: 2055.556149361639\n",
      "  intrinsic: 939.6574698861468\n",
      "  intrinsic: 641.0721821943271\n",
      "  intrinsic: 0.03231600849798887\n",
      "  intrinsic: -0.3214124825527059\n",
      "  intrinsic: 0.0007932583953709973\n",
      "  intrinsic: -0.0006257493541333847\n",
      "  intrinsic: 0.0\n",
      "  extrinsic {\n",
      "    transform: 0.9998926849887427\n",
      "    transform: -0.005993208400016058\n",
      "    transform: 0.0133678704017097\n",
      "    transform: 1.5389142447125008\n",
      "    transform: 0.006042236521329663\n",
      "    transform: 0.9999751560547995\n",
      "    transform: -0.003630241176497072\n",
      "    transform: -0.02363394083934774\n",
      "    transform: -0.013345781499156929\n",
      "    transform: 0.003710623431877962\n",
      "    transform: 0.999904056092345\n",
      "    transform: 2.115270572975561\n",
      "    transform: 0.0\n",
      "    transform: 0.0\n",
      "    transform: 0.0\n",
      "    transform: 1.0\n",
      "  }\n",
      "  width: 1920\n",
      "  height: 1280\n",
      "  rolling_shutter_direction: LEFT_TO_RIGHT\n",
      "}\n",
      "camera_calibrations {\n",
      "  name: FRONT_LEFT\n",
      "  intrinsic: 2063.7008688972\n",
      "  intrinsic: 2063.7008688972\n",
      "  intrinsic: 970.7315379934879\n",
      "  intrinsic: 639.9082229848484\n",
      "  intrinsic: 0.03119623557580319\n",
      "  intrinsic: -0.34029064830905453\n",
      "  intrinsic: -0.0006801050887136624\n",
      "  intrinsic: 0.001067963528920262\n",
      "  intrinsic: 0.0\n",
      "  extrinsic {\n",
      "    transform: 0.7163508489464225\n",
      "    transform: -0.6976495294008019\n",
      "    transform: 0.011251459486630241\n",
      "    transform: 1.492930189258495\n",
      "    transform: 0.6976096514642995\n",
      "    transform: 0.7164356249377603\n",
      "    transform: 0.007795479709391459\n",
      "    transform: 0.09192224912318936\n",
      "    transform: -0.01349945915947628\n",
      "    transform: 0.0022648282231656253\n",
      "    transform: 0.9999063131891514\n",
      "    transform: 2.1152105284507554\n",
      "    transform: 0.0\n",
      "    transform: 0.0\n",
      "    transform: 0.0\n",
      "    transform: 1.0\n",
      "  }\n",
      "  width: 1920\n",
      "  height: 1280\n",
      "  rolling_shutter_direction: LEFT_TO_RIGHT\n",
      "}\n",
      "camera_calibrations {\n",
      "  name: FRONT_RIGHT\n",
      "  intrinsic: 2056.0892196793116\n",
      "  intrinsic: 2056.0892196793116\n",
      "  intrinsic: 935.743715862858\n",
      "  intrinsic: 624.4064324983569\n",
      "  intrinsic: 0.03490672761153742\n",
      "  intrinsic: -0.3141180156718857\n",
      "  intrinsic: 0.0012619308568439455\n",
      "  intrinsic: -0.0026996059700096116\n",
      "  intrinsic: 0.0\n",
      "  extrinsic {\n",
      "    transform: 0.716582596758835\n",
      "    transform: 0.6975019454936628\n",
      "    transform: -0.000646571666883216\n",
      "    transform: 1.490324906589904\n",
      "    transform: -0.6974986018023605\n",
      "    transform: 0.71657554968999\n",
      "    transform: -0.0038964176163232226\n",
      "    transform: -0.09385927001229258\n",
      "    transform: -0.002254441420230414\n",
      "    transform: 0.003243087887177829\n",
      "    transform: 0.9999921999069986\n",
      "    transform: 2.1154927516413125\n",
      "    transform: 0.0\n",
      "    transform: 0.0\n",
      "    transform: 0.0\n",
      "    transform: 1.0\n",
      "  }\n",
      "  width: 1920\n",
      "  height: 1280\n",
      "  rolling_shutter_direction: LEFT_TO_RIGHT\n",
      "}\n",
      "camera_calibrations {\n",
      "  name: SIDE_LEFT\n",
      "  intrinsic: 2066.834902319412\n",
      "  intrinsic: 2066.834902319412\n",
      "  intrinsic: 952.8608233319966\n",
      "  intrinsic: 249.49859488407833\n",
      "  intrinsic: 0.044941016139828975\n",
      "  intrinsic: -0.3435919955955713\n",
      "  intrinsic: 0.00013187735016933997\n",
      "  intrinsic: -0.0011427074991115992\n",
      "  intrinsic: 0.0\n",
      "  extrinsic {\n",
      "    transform: 0.0012964074354981448\n",
      "    transform: -0.9999536359093453\n",
      "    transform: 0.009541769198720481\n",
      "    transform: 1.4314958432756546\n",
      "    transform: 0.9997854749192748\n",
      "    transform: 0.0014933173193322094\n",
      "    transform: 0.020658512623705133\n",
      "    transform: 0.11128578863910166\n",
      "    transform: -0.020671803699754576\n",
      "    transform: 0.009512940400541162\n",
      "    transform: 0.9997410567225569\n",
      "    transform: 2.115330824237742\n",
      "    transform: 0.0\n",
      "    transform: 0.0\n",
      "    transform: 0.0\n",
      "    transform: 1.0\n",
      "  }\n",
      "  width: 1920\n",
      "  height: 886\n",
      "  rolling_shutter_direction: LEFT_TO_RIGHT\n",
      "}\n",
      "camera_calibrations {\n",
      "  name: SIDE_RIGHT\n",
      "  intrinsic: 2054.797701053215\n",
      "  intrinsic: 2054.797701053215\n",
      "  intrinsic: 972.7435431831157\n",
      "  intrinsic: 242.4987260630087\n",
      "  intrinsic: 0.03337281654124105\n",
      "  intrinsic: -0.313299913027001\n",
      "  intrinsic: -0.0001886604822006906\n",
      "  intrinsic: -0.0012474351513059548\n",
      "  intrinsic: 0.0\n",
      "  extrinsic {\n",
      "    transform: -0.00192725729868321\n",
      "    transform: 0.9999977777956348\n",
      "    transform: -0.000854449001917361\n",
      "    transform: 1.428371747589099\n",
      "    transform: -0.9999943442124861\n",
      "    transform: -0.0019296044058050511\n",
      "    transform: -0.00275466329645372\n",
      "    transform: -0.11149205023810704\n",
      "    transform: -0.002756305923587554\n",
      "    transform: 0.0008491352243918596\n",
      "    transform: 0.9999958408648639\n",
      "    transform: 2.1156692490324467\n",
      "    transform: 0.0\n",
      "    transform: 0.0\n",
      "    transform: 0.0\n",
      "    transform: 1.0\n",
      "  }\n",
      "  width: 1920\n",
      "  height: 886\n",
      "  rolling_shutter_direction: LEFT_TO_RIGHT\n",
      "}\n",
      "laser_calibrations {\n",
      "  name: FRONT\n",
      "  beam_inclination_min: -1.5707963267948966\n",
      "  beam_inclination_max: 0.5235987755982988\n",
      "  extrinsic {\n",
      "    transform: 0.9998652264631824\n",
      "    transform: -0.012374982714412487\n",
      "    transform: 0.01078836004899645\n",
      "    transform: 4.07\n",
      "    transform: 0.012370123575608356\n",
      "    transform: 0.9999233534288761\n",
      "    transform: 0.0005170205750618116\n",
      "    transform: 0.0\n",
      "    transform: -0.010793931278870031\n",
      "    transform: -0.0003834975473860608\n",
      "    transform: 0.9999416702874113\n",
      "    transform: 0.689\n",
      "    transform: 0.0\n",
      "    transform: 0.0\n",
      "    transform: 0.0\n",
      "    transform: 1.0\n",
      "  }\n",
      "}\n",
      "laser_calibrations {\n",
      "  name: REAR\n",
      "  beam_inclination_min: -1.5707963267948966\n",
      "  beam_inclination_max: 0.5235987755982988\n",
      "  extrinsic {\n",
      "    transform: -0.9998203426768512\n",
      "    transform: -0.0012366249062338462\n",
      "    transform: -0.018914363018232017\n",
      "    transform: -1.155\n",
      "    transform: 0.0012444047907441676\n",
      "    transform: -0.9999991459049238\n",
      "    transform: -0.0003995574296983207\n",
      "    transform: 0.0\n",
      "    transform: -0.018913852760898655\n",
      "    transform: -0.0004230227702338191\n",
      "    transform: 0.999821027597177\n",
      "    transform: 0.464\n",
      "    transform: 0.0\n",
      "    transform: 0.0\n",
      "    transform: 0.0\n",
      "    transform: 1.0\n",
      "  }\n",
      "}\n",
      "laser_calibrations {\n",
      "  name: SIDE_LEFT\n",
      "  beam_inclination_min: -1.5707963267948966\n",
      "  beam_inclination_max: 0.5235987755982988\n",
      "  extrinsic {\n",
      "    transform: 0.0031797778574763464\n",
      "    transform: -0.9999778127632065\n",
      "    transform: 0.005853460010174735\n",
      "    transform: 3.245\n",
      "    transform: 0.9997496883031569\n",
      "    transform: 0.003308576153464576\n",
      "    transform: 0.022127224443596244\n",
      "    transform: 1.025\n",
      "    transform: -0.022146100119832854\n",
      "    transform: 0.0057816351623340275\n",
      "    transform: 0.9997380271572809\n",
      "    transform: 0.979\n",
      "    transform: 0.0\n",
      "    transform: 0.0\n",
      "    transform: 0.0\n",
      "    transform: 1.0\n",
      "  }\n",
      "}\n",
      "laser_calibrations {\n",
      "  name: SIDE_RIGHT\n",
      "  beam_inclination_min: -1.5707963267948966\n",
      "  beam_inclination_max: 0.5235987755982988\n",
      "  extrinsic {\n",
      "    transform: -0.006492366214414203\n",
      "    transform: 0.9999718528565993\n",
      "    transform: -0.0037606748700064157\n",
      "    transform: 3.245\n",
      "    transform: -0.9994155217525648\n",
      "    transform: -0.006614886675273215\n",
      "    transform: -0.03353890508531984\n",
      "    transform: -1.025\n",
      "    transform: -0.03356283749903654\n",
      "    transform: 0.003540729983104845\n",
      "    transform: 0.9994303373273197\n",
      "    transform: 0.979\n",
      "    transform: 0.0\n",
      "    transform: 0.0\n",
      "    transform: 0.0\n",
      "    transform: 1.0\n",
      "  }\n",
      "}\n",
      "laser_calibrations {\n",
      "  name: TOP\n",
      "  beam_inclinations: -0.3096316354429449\n",
      "  beam_inclinations: -0.2990935195213844\n",
      "  beam_inclinations: -0.2885804618889636\n",
      "  beam_inclinations: -0.2780952907528751\n",
      "  beam_inclinations: -0.26770166528932315\n",
      "  beam_inclinations: -0.25860954459162877\n",
      "  beam_inclinations: -0.24891719273633606\n",
      "  beam_inclinations: -0.2398364216126483\n",
      "  beam_inclinations: -0.23026933024027318\n",
      "  beam_inclinations: -0.22129750913016077\n",
      "  beam_inclinations: -0.21174633688986222\n",
      "  beam_inclinations: -0.2032086979548664\n",
      "  beam_inclinations: -0.1947109529391673\n",
      "  beam_inclinations: -0.18654917552985428\n",
      "  beam_inclinations: -0.1777966336707011\n",
      "  beam_inclinations: -0.17010542288047326\n",
      "  beam_inclinations: -0.1619204344014964\n",
      "  beam_inclinations: -0.15447645249605046\n",
      "  beam_inclinations: -0.14694637475217442\n",
      "  beam_inclinations: -0.1397572897671926\n",
      "  beam_inclinations: -0.13224985399358657\n",
      "  beam_inclinations: -0.12515786941652007\n",
      "  beam_inclinations: -0.11819281200913823\n",
      "  beam_inclinations: -0.11179264288730995\n",
      "  beam_inclinations: -0.10511618389309652\n",
      "  beam_inclinations: -0.09898137927534933\n",
      "  beam_inclinations: -0.09276671098228917\n",
      "  beam_inclinations: -0.08680787309428584\n",
      "  beam_inclinations: -0.08079759055774005\n",
      "  beam_inclinations: -0.07560577852119499\n",
      "  beam_inclinations: -0.07014871723471439\n",
      "  beam_inclinations: -0.0657064593506993\n",
      "  beam_inclinations: -0.06044682633210763\n",
      "  beam_inclinations: -0.055976841503205366\n",
      "  beam_inclinations: -0.05128120535416136\n",
      "  beam_inclinations: -0.04749513726931931\n",
      "  beam_inclinations: -0.0432988365724023\n",
      "  beam_inclinations: -0.039475988511034954\n",
      "  beam_inclinations: -0.035508677900720764\n",
      "  beam_inclinations: -0.031933982130093685\n",
      "  beam_inclinations: -0.02871096926661365\n",
      "  beam_inclinations: -0.025798766187801636\n",
      "  beam_inclinations: -0.02271463019401887\n",
      "  beam_inclinations: -0.020121800366877496\n",
      "  beam_inclinations: -0.016948351911716175\n",
      "  beam_inclinations: -0.014038209415881964\n",
      "  beam_inclinations: -0.010949318393027596\n",
      "  beam_inclinations: -0.008391388807776234\n",
      "  beam_inclinations: -0.005178693738374873\n",
      "  beam_inclinations: -0.0025427113056801787\n",
      "  beam_inclinations: 0.0006093841244867448\n",
      "  beam_inclinations: 0.003502138844707181\n",
      "  beam_inclinations: 0.00647313242375791\n",
      "  beam_inclinations: 0.008942029457416067\n",
      "  beam_inclinations: 0.012146895773645028\n",
      "  beam_inclinations: 0.014853056290285105\n",
      "  beam_inclinations: 0.018218260030434363\n",
      "  beam_inclinations: 0.020994285647720767\n",
      "  beam_inclinations: 0.024042142492056495\n",
      "  beam_inclinations: 0.02667281252267184\n",
      "  beam_inclinations: 0.029578993878473625\n",
      "  beam_inclinations: 0.032332878595667136\n",
      "  beam_inclinations: 0.035812139673645715\n",
      "  beam_inclinations: 0.03858014672640575\n",
      "  beam_inclination_min: -0.3149006934037252\n",
      "  beam_inclination_max: 0.03996415025278577\n",
      "  extrinsic {\n",
      "    transform: -0.8501252893535083\n",
      "    transform: -0.5265748816393067\n",
      "    transform: 0.002426196233609717\n",
      "    transform: 1.43\n",
      "    transform: 0.5265789138981879\n",
      "    transform: -0.8501249566763436\n",
      "    transform: 0.0014850837854017132\n",
      "    transform: 0.0\n",
      "    transform: 0.0012805621494634083\n",
      "    transform: 0.002540091060376914\n",
      "    transform: 0.9999959540408083\n",
      "    transform: 2.184\n",
      "    transform: 0.0\n",
      "    transform: 0.0\n",
      "    transform: 0.0\n",
      "    transform: 1.0\n",
      "  }\n",
      "}\n",
      "stats {\n",
      "  laser_object_counts {\n",
      "    type: TYPE_VEHICLE\n",
      "    count: 13\n",
      "  }\n",
      "  laser_object_counts {\n",
      "    type: TYPE_PEDESTRIAN\n",
      "    count: 21\n",
      "  }\n",
      "  laser_object_counts {\n",
      "    type: TYPE_SIGN\n",
      "    count: 10\n",
      "  }\n",
      "  time_of_day: \"Day\"\n",
      "  location: \"location_sf\"\n",
      "  weather: \"sunny\"\n",
      "  camera_object_counts {\n",
      "    type: TYPE_VEHICLE\n",
      "    count: 9\n",
      "  }\n",
      "  camera_object_counts {\n",
      "    type: TYPE_PEDESTRIAN\n",
      "    count: 10\n",
      "  }\n",
      "}\n",
      "\n"
     ]
    }
   ],
   "source": [
    "print(frame.context)"
   ]
  },
  {
   "cell_type": "markdown",
   "metadata": {},
   "source": [
    "# Visualize Camera Images and Camera Labels"
   ]
  },
  {
   "cell_type": "code",
   "execution_count": null,
   "metadata": {
    "tags": []
   },
   "outputs": [],
   "source": [
    "import matplotlib.pyplot as plt\n",
    "import matplotlib.patches as patches\n",
    "\n",
    "def show_camera_image(camera_image, camera_labels, layout, cmap=None):\n",
    "  \"\"\"Show a camera image and the given camera labels.\"\"\"\n",
    "\n",
    "  ax = plt.subplot(*layout)\n",
    "\n",
    "  # Draw the camera labels.\n",
    "  for camera_labels in frame.camera_labels:\n",
    "    # Ignore camera labels that do not correspond to this camera.\n",
    "    if camera_labels.name != camera_image.name:\n",
    "      continue\n",
    "\n",
    "    # Iterate over the individual labels.\n",
    "    for label in camera_labels.labels:\n",
    "      # Draw the object bounding box.\n",
    "      ax.add_patch(patches.Rectangle(\n",
    "        xy=(label.box.center_x - 0.5 * label.box.length,\n",
    "            label.box.center_y - 0.5 * label.box.width),\n",
    "        width=label.box.length,\n",
    "        height=label.box.width,\n",
    "        linewidth=1,\n",
    "        edgecolor='red',\n",
    "        facecolor='none'))\n",
    "\n",
    "  # Show the camera image.\n",
    "  plt.imshow(tf.image.decode_jpeg(camera_image.image), cmap=cmap)\n",
    "  plt.title(open_dataset.CameraName.Name.Name(camera_image.name))\n",
    "  plt.grid(False)\n",
    "  plt.axis('off')\n",
    "\n",
    "plt.figure(figsize=(25, 20))\n",
    "\n",
    "for index, image in enumerate(frame.images):\n",
    "  show_camera_image(image, frame.camera_labels, [3, 3, index+1])"
   ]
  },
  {
   "cell_type": "markdown",
   "metadata": {},
   "source": [
    "# Visualize Range Images"
   ]
  },
  {
   "cell_type": "code",
   "execution_count": null,
   "metadata": {
    "tags": []
   },
   "outputs": [],
   "source": [
    "plt.figure(figsize=(64, 20))\n",
    "def plot_range_image_helper(data, name, layout, vmin = 0, vmax=1, cmap='gray'):\n",
    "  \"\"\"Plots range image.\n",
    "\n",
    "  Args:\n",
    "    data: range image data\n",
    "    name: the image title\n",
    "    layout: plt layout\n",
    "    vmin: minimum value of the passed data\n",
    "    vmax: maximum value of the passed data\n",
    "    cmap: color map\n",
    "  \"\"\"\n",
    "  plt.subplot(*layout)\n",
    "  plt.imshow(data, cmap=cmap, vmin=vmin, vmax=vmax)\n",
    "  plt.title(name)\n",
    "  plt.grid(False)\n",
    "  plt.axis('off')\n",
    "\n",
    "def get_range_image(laser_name, return_index):\n",
    "  \"\"\"Returns range image given a laser name and its return index.\"\"\"\n",
    "  return range_images[laser_name][return_index]\n",
    "\n",
    "def show_range_image(range_image, layout_index_start = 1):\n",
    "  \"\"\"Shows range image.\n",
    "\n",
    "  Args:\n",
    "    range_image: the range image data from a given lidar of type MatrixFloat.\n",
    "    layout_index_start: layout offset\n",
    "  \"\"\"\n",
    "  range_image_tensor = tf.convert_to_tensor(range_image.data)\n",
    "  range_image_tensor = tf.reshape(range_image_tensor, range_image.shape.dims)\n",
    "  lidar_image_mask = tf.greater_equal(range_image_tensor, 0)\n",
    "  range_image_tensor = tf.where(lidar_image_mask, range_image_tensor,\n",
    "                                tf.ones_like(range_image_tensor) * 1e10)\n",
    "  range_image_range = range_image_tensor[...,0] \n",
    "  range_image_intensity = range_image_tensor[...,1]\n",
    "  range_image_elongation = range_image_tensor[...,2]\n",
    "  plot_range_image_helper(range_image_range.numpy(), 'range',\n",
    "                   [8, 1, layout_index_start], vmax=75, cmap='gray')\n",
    "  plot_range_image_helper(range_image_intensity.numpy(), 'intensity',\n",
    "                   [8, 1, layout_index_start + 1], vmax=1.5, cmap='gray')\n",
    "  plot_range_image_helper(range_image_elongation.numpy(), 'elongation',\n",
    "                   [8, 1, layout_index_start + 2], vmax=1.5, cmap='gray')\n",
    "frame.lasers.sort(key=lambda laser: laser.name)\n",
    "show_range_image(get_range_image(open_dataset.LaserName.TOP, 0), 1)\n",
    "show_range_image(get_range_image(open_dataset.LaserName.TOP, 1), 4)"
   ]
  },
  {
   "cell_type": "markdown",
   "metadata": {},
   "source": [
    "# Point Cloud Conversation and Visualization"
   ]
  },
  {
   "cell_type": "code",
   "execution_count": null,
   "metadata": {
    "tags": []
   },
   "outputs": [],
   "source": [
    "points, cp_points = frame_utils.convert_range_image_to_point_cloud(\n",
    "    frame,\n",
    "    range_images,\n",
    "    camera_projections,\n",
    "    range_image_top_pose)\n",
    "points_ri2, cp_points_ri2 = frame_utils.convert_range_image_to_point_cloud(\n",
    "    frame,\n",
    "    range_images,\n",
    "    camera_projections,\n",
    "    range_image_top_pose,\n",
    "    ri_index=1)\n",
    "\n",
    "# 3d points in vehicle frame.\n",
    "points_all = np.concatenate(points, axis=0)\n",
    "points_all_ri2 = np.concatenate(points_ri2, axis=0)\n",
    "# camera projection corresponding to each point.\n",
    "cp_points_all = np.concatenate(cp_points, axis=0)\n",
    "cp_points_all_ri2 = np.concatenate(cp_points_ri2, axis=0)"
   ]
  },
  {
   "cell_type": "markdown",
   "metadata": {},
   "source": [
    "# Examine number of points in each lidar sensor."
   ]
  },
  {
   "cell_type": "code",
   "execution_count": null,
   "metadata": {
    "tags": []
   },
   "outputs": [],
   "source": [
    "print(points_all.shape)\n",
    "print(cp_points_all.shape)\n",
    "print(points_all[0:2])\n",
    "for i in range(5):\n",
    "  print(points[i].shape)\n",
    "  print(cp_points[i].shape)"
   ]
  },
  {
   "cell_type": "markdown",
   "metadata": {},
   "source": [
    "Second rerun"
   ]
  },
  {
   "cell_type": "code",
   "execution_count": null,
   "metadata": {
    "tags": []
   },
   "outputs": [],
   "source": [
    "print(points_all_ri2.shape)\n",
    "print(cp_points_all_ri2.shape)\n",
    "print(points_all_ri2[0:2])\n",
    "for i in range(5):\n",
    "  print(points_ri2[i].shape)\n",
    "  print(cp_points_ri2[i].shape)"
   ]
  },
  {
   "cell_type": "markdown",
   "metadata": {},
   "source": [
    "# Show point Cloud\n",
    "\n",
    "3D point clouds are rendered using an internal tool, which is unfortunately not publicly available yet. Here is an example of what they look like."
   ]
  },
  {
   "cell_type": "code",
   "execution_count": null,
   "metadata": {
    "tags": []
   },
   "outputs": [],
   "source": [
    "from IPython.display import Image, display\n",
    "display(Image('tutorial/3d_point_cloud.png'))"
   ]
  },
  {
   "cell_type": "markdown",
   "metadata": {},
   "source": [
    "# Visualize Camera Position"
   ]
  },
  {
   "cell_type": "code",
   "execution_count": null,
   "metadata": {
    "tags": []
   },
   "outputs": [],
   "source": [
    "images = sorted(frame.images, key=lambda i:i.name)\n",
    "cp_points_all_concat = np.concatenate([cp_points_all, points_all], axis=-1)\n",
    "cp_points_all_concat_tensor = tf.constant(cp_points_all_concat)\n",
    "\n",
    "# The distance between lidar points and vehicle frame origin.\n",
    "points_all_tensor = tf.norm(points_all, axis=-1, keepdims=True)\n",
    "cp_points_all_tensor = tf.constant(cp_points_all, dtype=tf.int32)\n",
    "\n",
    "mask = tf.equal(cp_points_all_tensor[..., 0], images[0].name)\n",
    "\n",
    "cp_points_all_tensor = tf.cast(tf.gather_nd(\n",
    "    cp_points_all_tensor, tf.where(mask)), dtype=tf.float32)\n",
    "points_all_tensor = tf.gather_nd(points_all_tensor, tf.where(mask))\n",
    "\n",
    "projected_points_all_from_raw_data = tf.concat(\n",
    "    [cp_points_all_tensor[..., 1:3], points_all_tensor], axis=-1).numpy()"
   ]
  },
  {
   "cell_type": "code",
   "execution_count": null,
   "metadata": {
    "tags": []
   },
   "outputs": [],
   "source": [
    "def rgba(r):\n",
    "  \"\"\"Generates a color based on range.\n",
    "\n",
    "  Args:\n",
    "    r: the range value of a given point.\n",
    "  Returns:\n",
    "    The color for a given range\n",
    "  \"\"\"\n",
    "  c = plt.get_cmap('jet')((r % 20.0) / 20.0)\n",
    "  c = list(c)\n",
    "  c[-1] = 0.5  # alpha\n",
    "  return c\n",
    "\n",
    "def plot_image(camera_image):\n",
    "  \"\"\"Plot a cmaera image.\"\"\"\n",
    "  plt.figure(figsize=(20, 12))\n",
    "  plt.imshow(tf.image.decode_jpeg(camera_image.image))\n",
    "  plt.grid(\"off\")\n",
    "\n",
    "def plot_points_on_image(projected_points, camera_image, rgba_func,\n",
    "                         point_size=5.0):\n",
    "  \"\"\"Plots points on a camera image.\n",
    "\n",
    "  Args:\n",
    "    projected_points: [N, 3] numpy array. The inner dims are\n",
    "      [camera_x, camera_y, range].\n",
    "    camera_image: jpeg encoded camera image.\n",
    "    rgba_func: a function that generates a color from a range value.\n",
    "    point_size: the point size.\n",
    "\n",
    "  \"\"\"\n",
    "  plot_image(camera_image)\n",
    "\n",
    "  xs = []\n",
    "  ys = []\n",
    "  colors = []\n",
    "\n",
    "  for point in projected_points:\n",
    "    xs.append(point[0])  # width, col\n",
    "    ys.append(point[1])  # height, row\n",
    "    colors.append(rgba_func(point[2]))\n",
    "\n",
    "  plt.scatter(xs, ys, c=colors, s=point_size, edgecolors=\"none\")"
   ]
  },
  {
   "cell_type": "code",
   "execution_count": null,
   "metadata": {
    "tags": []
   },
   "outputs": [],
   "source": [
    "plot_points_on_image(projected_points_all_from_raw_data,\n",
    "                     images[0], rgba, point_size=5.0)"
   ]
  },
  {
   "cell_type": "markdown",
   "metadata": {},
   "source": [
    "# Install from source code\n",
    "## Install dependencies"
   ]
  },
  {
   "cell_type": "code",
   "execution_count": null,
   "metadata": {},
   "outputs": [],
   "source": [
    "!sudo apt install build-essential\n",
    "!sudo apt-get install --assume-yes pkg-config zip g++ zlib1g-dev unzip python3 python3-pip\n",
    "!wget https://github.com/bazelbuild/bazel/releases/download/0.28.0/bazel-0.28.0-installer-linux-x86_64.sh\n",
    "!sudo bash ./bazel-0.28.0-installer-linux-x86_64.sh"
   ]
  },
  {
   "cell_type": "markdown",
   "metadata": {},
   "source": [
    "# Build and Test"
   ]
  },
  {
   "cell_type": "code",
   "execution_count": null,
   "metadata": {},
   "outputs": [],
   "source": [
    "!cd waymo-od && ./configure.sh && cat .bazelrc && bazel clean"
   ]
  },
  {
   "cell_type": "code",
   "execution_count": null,
   "metadata": {},
   "outputs": [],
   "source": [
    "!cd waymo-od && bazel build ... --show_progress_rate_limit=10.0"
   ]
  },
  {
   "cell_type": "markdown",
   "metadata": {},
   "source": [
    "# Command line detection metrics computation"
   ]
  },
  {
   "cell_type": "code",
   "execution_count": null,
   "metadata": {
    "tags": []
   },
   "outputs": [],
   "source": [
    "!cd waymo-od && bazel-bin/waymo_open_dataset/metrics/tools/compute_detection_metrics_main waymo_open_dataset/metrics/tools/fake_predictions.bin  waymo_open_dataset/metrics/tools/fake_ground_truths.bin"
   ]
  }
 ],
 "metadata": {
  "kernelspec": {
   "display_name": "Python 3 (ipykernel)",
   "language": "python",
   "name": "python3"
  },
  "language_info": {
   "codemirror_mode": {
    "name": "ipython",
    "version": 3
   },
   "file_extension": ".py",
   "mimetype": "text/x-python",
   "name": "python",
   "nbconvert_exporter": "python",
   "pygments_lexer": "ipython3",
   "version": "3.9.15"
  }
 },
 "nbformat": 4,
 "nbformat_minor": 4
}
